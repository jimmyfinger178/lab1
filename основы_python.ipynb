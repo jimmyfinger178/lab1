{
  "metadata": {
    "kernelspec": {
      "name": "python",
      "display_name": "Python (Pyodide)",
      "language": "python"
    },
    "language_info": {
      "name": ""
    }
  },
  "nbformat_minor": 4,
  "nbformat": 4,
  "cells": [
    {
      "cell_type": "markdown",
      "source": "**Задача 1**",
      "metadata": {}
    },
    {
      "cell_type": "raw",
      "source": "Написать функцию на вход которой подается строка, состоящая из латинских букв. Функция должна вернуть количество гласных букв (a, e, i, o, u) в этой строке. Написать тесты для кода",
      "metadata": {}
    },
    {
      "cell_type": "code",
      "source": "def count_vowels(s):\n    vowels = 'aeiou'\n    return sum(1 for char in s if char in vowels)\n\ndef test_count_vowels():\n    assert count_vowels('python') == 1\n    assert count_vowels('computer') == 3\n\ndef test_empty_string():\n    assert count_vowels('') == 0\n\ndef test_count_no_vowels():\n    assert count_vowels('zxc') == 0\n\ntest_count_vowels()\ntest_empty_string()\ntest_count_no_vowels()",
      "metadata": {
        "trusted": true
      },
      "outputs": [],
      "execution_count": null
    },
    {
      "cell_type": "markdown",
      "source": "**Задача 2**",
      "metadata": {}
    },
    {
      "cell_type": "raw",
      "source": "Написать функцию на вход, которой подается строка. Функция должна вернуть true, если каждый символ в строке встречается только 1 раз, иначе должна вернуть false. Написать тесты для кода",
      "metadata": {}
    },
    {
      "cell_type": "code",
      "source": "def unique_char(s):\n    new_s = set(s)\n    if len(new_s) == len(s):\n        return True\n    else:\n        return False\n\ndef test_unique():\n    assert unique_char('python') == True\n    assert unique_char('zizha') == False\n\ntest_unique()  ",
      "metadata": {
        "trusted": true
      },
      "outputs": [],
      "execution_count": null
    },
    {
      "cell_type": "markdown",
      "source": "**Задача 3**",
      "metadata": {}
    },
    {
      "cell_type": "raw",
      "source": "Написать функцию, которая принимает положительное число и возвращает количество бит равных 1 в этом числе. Написать тесты для кода",
      "metadata": {}
    },
    {
      "cell_type": "code",
      "source": "def count_bits(n):\n    if n < 0:\n        raise ValueError(\"Input must be a positive integer\")\n    return bin(n).count('1')\n\ndef test_count_bits():\n    assert count_bits(0) == 0\n    assert count_bits(1) == 1\n    assert count_bits(255) == 8\n    assert count_bits(1023) == 10\n\ntest_count_bits()",
      "metadata": {
        "trusted": true
      },
      "outputs": [],
      "execution_count": null
    },
    {
      "cell_type": "markdown",
      "source": "**Задача 4**",
      "metadata": {}
    },
    {
      "cell_type": "raw",
      "source": "Написать функцию, которая принимает положительное число. Функция должна вернуть то, сколько раз необходимо перемножать цифры числа или результат перемножения, чтобы получилось число состоящее из одной цифры. Например, для входного числа: · 39 функция должна вернуть 3, так как 39=27 => 27=14 => 14=4 · 4 функция должна вернуть 0, так как число уже состоит из одной цифры · 999 функция должна вернуть 4, так как 999=729 => 729=126 => 126=12 => 12=2. Написать тесты для кода",
      "metadata": {}
    },
    {
      "cell_type": "code",
      "source": "from functools import reduce\n\ndef magic(n):\n    count = 0\n    while n > 10:\n        n = reduce(lambda x, y: x * int(y), str(n), 1)\n        count += 1\n    return count \n\ndef test_magic():\n    assert magic(999) == 4\n\ndef test_to_ten_magic():\n    assert magic(4) == 0\n\ndef test_empty_magic():\n    assert magic() == None",
      "metadata": {
        "trusted": true
      },
      "outputs": [],
      "execution_count": null
    },
    {
      "cell_type": "markdown",
      "source": "**Задача 5**",
      "metadata": {}
    },
    {
      "cell_type": "raw",
      "source": "Написать функцию, которая принимает два целочисленных вектора одинаковой длины и возвращает среднеквадратическое отклонение двух векторов. Написать тесты для кода",
      "metadata": {}
    },
    {
      "cell_type": "code",
      "source": "import unittest\n\ndef mse(pred, true):\n    if len(pred) == len(true):\n        return sum((p - t) ** 2 for p, t in zip(pred, true)) / len(pred)\n\ndef test_mse():\n    assert mse([1, 2, 3], [1, 2, 3]) == 0\n    assert mse([1, 2, 3], [4, 5, 6]) == 9\n\ndef test_different_mse():\n    assert mse([1, 2], [1, 2, 3]) == ValueError\n\ndef test_letter_mse():\n    assert mse(['a', 'b'], ['a', 'b']) == ValueError\n\ntest_mse()\ntest_different_mse()\ntest_letter_mse()",
      "metadata": {
        "trusted": true
      },
      "outputs": [],
      "execution_count": null
    },
    {
      "cell_type": "markdown",
      "source": "**Задача 6**",
      "metadata": {}
    },
    {
      "cell_type": "raw",
      "source": "Написать функцию, принимающая целое положительное число. Функция должна вернуть строку вида “(n1p1)(n2p2)…(nkpk)” представляющая разложение числа на простые множители (если pi == 1, то выводить только ni). Например, для числа 86240 функция должна вернуть “(25)(5)(7**2)(11)”. Написать тесты для кода",
      "metadata": {}
    },
    {
      "cell_type": "code",
      "source": "def prime_factorization(n):\n    if n < 1:\n        raise ValueError(\"Input must be a positive integer.\")\n    \n    factors = []\n    \n    count = 0\n    while n % 2 == 0:\n        count += 1\n        n //= 2\n    if count > 0:\n        factors.append(f\"(2**{count})\" if count > 1 else \"(2)\")\n    \n    for i in range(3, int(n**0.5) + 1, 2):\n        count = 0\n        while n % i == 0:\n            count += 1\n            n //= i\n        if count > 0:\n            factors.append(f\"({i}**{count})\" if count > 1 else f\"({i})\")\n    \n    if n > 2:\n        factors.append(f\"({n})\")\n    \n    return ''.join(factors)\n\ndef test_prime_factorization():\n    assert prime_factorization(86240) == \"(2**5)(5)(7)(11)\"\n    assert prime_factorization(28) == \"(2**2)(7)\"\n    assert prime_factorization(60) == \"(2**2)(3)(5)\"\n    assert prime_factorization(1) == \"\"\n    assert prime_factorization(97) == \"(97)\"\n    assert prime_factorization(100) == \"(2**2)(5**2)\"",
      "metadata": {
        "trusted": true
      },
      "outputs": [],
      "execution_count": null
    },
    {
      "cell_type": "markdown",
      "source": "**Задача 7**",
      "metadata": {}
    },
    {
      "cell_type": "raw",
      "source": "Написать функцию, принимающая целое число n, задающее количество кубиков. Функция должна определить, можно ли из данного кол-ва кубиков построить пирамиду, то есть можно ли представить число n как 1^2+2^2+3^2+…+k^2. Если можно, то функция должна вернуть k, иначе строку “It is impossible”. Написать тесты для кода",
      "metadata": {}
    },
    {
      "cell_type": "code",
      "source": "def pyramid(n):\n    if n < 1:\n        return 'It is impossible'\n    k = 1\n    total_cubes = 0\n    while total_cubes < n:\n        total_cubes += k**2\n        if total_cubes == n:\n            return k\n        k += 1\n    return 'It is impossible'\n\ndef test_pyramid():\n    assert pyramid(14) == 3\n    assert pyramid(91) == 6\n    assert pyramid(4) == 'It is impossible'\n\ntest_pyramid()",
      "metadata": {
        "trusted": true
      },
      "outputs": [],
      "execution_count": null
    },
    {
      "cell_type": "markdown",
      "source": "**Задача 8**",
      "metadata": {}
    },
    {
      "cell_type": "raw",
      "source": "Функция принимает на вход положительное число и определяет является ли оно сбалансированным, т.е. сумма цифр до средних равна сумме цифр после. Средними в случае нечетного числа цифр считать одну цифру, в случае четного - две средних. Написать тесты для кода",
      "metadata": {}
    },
    {
      "cell_type": "code",
      "source": "def is_balanced(number):\n    str_num = str(number)\n    length = len(str_num)\n    \n    if length % 2 == 0:\n        mid1 = length // 2 - 1\n        mid2 = length // 2\n        left_sum = sum(int(digit) for digit in str_num[:mid1 + 1])\n        right_sum = sum(int(digit) for digit in str_num[mid2:])\n    else:\n        mid = length // 2\n        left_sum = sum(int(digit) for digit in str_num[:mid])\n        right_sum = sum(int(digit) for digit in str_num[mid + 1:])\n    \n    return left_sum == right_sum\n\ndef test_is_balanced():\n    assert is_balanced(123321) == True\n    assert is_balanced(12345) == False\n    assert is_balanced(0) == True\n    assert is_balanced(1001) == True\n    assert is_balanced(123456789) == False\n\ntest_is_balanced()",
      "metadata": {
        "trusted": true
      },
      "outputs": [],
      "execution_count": null
    },
    {
      "cell_type": "code",
      "source": "",
      "metadata": {
        "trusted": true
      },
      "outputs": [],
      "execution_count": null
    }
  ]
}